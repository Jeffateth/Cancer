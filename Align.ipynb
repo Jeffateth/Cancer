{
 "cells": [
  {
   "cell_type": "code",
   "execution_count": 1,
   "metadata": {},
   "outputs": [
    {
     "name": "stderr",
     "output_type": "stream",
     "text": [
      "/opt/anaconda3/envs/Cancer/lib/python3.9/site-packages/pyproj/__init__.py:95: UserWarning: pyproj unable to set database path.\n",
      "  _pyproj_global_context_initialize()\n",
      "/opt/anaconda3/envs/Cancer/lib/python3.9/site-packages/numba/core/decorators.py:246: RuntimeWarning: nopython is set for njit and is ignored\n",
      "  warnings.warn('nopython is set for njit and is ignored', RuntimeWarning)\n",
      "/opt/anaconda3/envs/Cancer/lib/python3.9/site-packages/anndata/_core/aligned_df.py:68: ImplicitModificationWarning: Transforming to str index.\n",
      "  warnings.warn(\"Transforming to str index.\", ImplicitModificationWarning)\n"
     ]
    },
    {
     "data": {
      "text/plain": [
       "SpatialData object, with associated Zarr store: /Users/jianzhouyao/Cancer/FFPE Human Breast with Pre-designed Panel/Xenium_V1_FFPE_Human_Breast_IDC_outs.zarr\n",
       "├── Images\n",
       "│     ├── 'morphology_focus': DataTree[cyx] (1, 53738, 48376), (1, 26869, 24188), (1, 13434, 12094), (1, 6717, 6047), (1, 3358, 3023)\n",
       "│     └── 'morphology_mip': DataTree[cyx] (1, 53738, 48376), (1, 26869, 24188), (1, 13434, 12094), (1, 6717, 6047), (1, 3358, 3023)\n",
       "├── Labels\n",
       "│     ├── 'cell_labels': DataTree[yx] (53738, 48376), (26869, 24188), (13434, 12094), (6717, 6047), (3358, 3023)\n",
       "│     └── 'nucleus_labels': DataTree[yx] (53738, 48376), (26869, 24188), (13434, 12094), (6717, 6047), (3358, 3023)\n",
       "├── Points\n",
       "│     └── 'transcripts': DataFrame with shape: (<Delayed>, 8) (3D points)\n",
       "├── Shapes\n",
       "│     ├── 'cell_boundaries': GeoDataFrame shape: (574852, 1) (2D shapes)\n",
       "│     ├── 'cell_circles': GeoDataFrame shape: (574852, 2) (2D shapes)\n",
       "│     └── 'nucleus_boundaries': GeoDataFrame shape: (574852, 1) (2D shapes)\n",
       "└── Tables\n",
       "      └── 'table': AnnData (574852, 280)\n",
       "with coordinate systems:\n",
       "    ▸ 'global', with elements:\n",
       "        morphology_focus (Images), morphology_mip (Images), cell_labels (Labels), nucleus_labels (Labels), transcripts (Points), cell_boundaries (Shapes), cell_circles (Shapes), nucleus_boundaries (Shapes)"
      ]
     },
     "execution_count": 1,
     "metadata": {},
     "output_type": "execute_result"
    }
   ],
   "source": [
    "from xenium_he_aligner import XeniumHEAligner\n",
    "import spatialdata as sd\n",
    "import spatialdata_plot  # noqa: F401\n",
    "# Load your dataset\n",
    "xenium_path = \"/Users/jianzhouyao/Cancer/FFPE Human Breast with Pre-designed Panel/Xenium_V1_FFPE_Human_Breast_IDC_outs\"\n",
    "zarr_path = xenium_path + \".zarr\"\n",
    "\n",
    "sdata = sd.read_zarr(zarr_path)\n",
    "sdata\n"
   ]
  },
  {
   "cell_type": "code",
   "execution_count": null,
   "metadata": {},
   "outputs": [
    {
     "ename": "TypeError",
     "evalue": "main() got an unexpected keyword argument 'he_image_path'",
     "output_type": "error",
     "traceback": [
      "\u001b[0;31m---------------------------------------------------------------------------\u001b[0m",
      "\u001b[0;31mTypeError\u001b[0m                                 Traceback (most recent call last)",
      "Cell \u001b[0;32mIn[5], line 13\u001b[0m\n\u001b[1;32m      5\u001b[0m he_image_path \u001b[38;5;241m=\u001b[39m \u001b[38;5;124m\"\u001b[39m\u001b[38;5;124m/Users/jianzhouyao/Cancer/FFPE Human Breast with Pre-designed Panel/Xenium_V1_FFPE_Human_Breast_IDC_he_image.ome.tif\u001b[39m\u001b[38;5;124m\"\u001b[39m\n\u001b[1;32m      6\u001b[0m \u001b[38;5;66;03m# matching_points_path = \"/path/to/matching_points.csv\"  # Optional\u001b[39;00m\n\u001b[1;32m      7\u001b[0m \n\u001b[1;32m      8\u001b[0m \u001b[38;5;66;03m# Use your existing SpatialData object\u001b[39;00m\n\u001b[0;32m   (...)\u001b[0m\n\u001b[1;32m     11\u001b[0m \n\u001b[1;32m     12\u001b[0m \u001b[38;5;66;03m# Run the transformation\u001b[39;00m\n\u001b[0;32m---> 13\u001b[0m xenium_centroids, he_coordinates, patches, transform_matrix, cell_ids \u001b[38;5;241m=\u001b[39m \u001b[43mmain\u001b[49m\u001b[43m(\u001b[49m\n\u001b[1;32m     14\u001b[0m \u001b[43m    \u001b[49m\u001b[43mhe_image_path\u001b[49m\u001b[38;5;241;43m=\u001b[39;49m\u001b[43mhe_image_path\u001b[49m\u001b[43m,\u001b[49m\n\u001b[1;32m     15\u001b[0m \u001b[43m  \u001b[49m\u001b[38;5;66;43;03m#  matching_points_path=matching_points_path,  # Optional\u001b[39;49;00m\n\u001b[1;32m     16\u001b[0m \u001b[43m    \u001b[49m\u001b[43msdata\u001b[49m\u001b[38;5;241;43m=\u001b[39;49m\u001b[43msdata\u001b[49m\n\u001b[1;32m     17\u001b[0m \u001b[43m)\u001b[49m\n\u001b[1;32m     19\u001b[0m \u001b[38;5;66;03m# Show a specific cell in both coordinate systems\u001b[39;00m\n\u001b[1;32m     20\u001b[0m \u001b[38;5;28;01mimport\u001b[39;00m\u001b[38;5;250m \u001b[39m\u001b[38;5;21;01mmatplotlib\u001b[39;00m\u001b[38;5;21;01m.\u001b[39;00m\u001b[38;5;21;01mpyplot\u001b[39;00m\u001b[38;5;250m \u001b[39m\u001b[38;5;28;01mas\u001b[39;00m\u001b[38;5;250m \u001b[39m\u001b[38;5;21;01mplt\u001b[39;00m\n",
      "\u001b[0;31mTypeError\u001b[0m: main() got an unexpected keyword argument 'he_image_path'"
     ]
    }
   ],
   "source": [
    "# Import the module\n",
    "from xenium_he_overlay import main\n",
    "\n",
    "# Define paths\n",
    "he_image_path = \"/Users/jianzhouyao/Cancer/FFPE Human Breast with Pre-designed Panel/Xenium_V1_FFPE_Human_Breast_IDC_he_image.ome.tif\"\n",
    "# matching_points_path = \"/path/to/matching_points.csv\"  # Optional\n",
    "\n",
    "# Use your existing SpatialData object\n",
    "# Based on your images, you already have this loaded as 'sdata'\n",
    "\n",
    "# Run the transformation\n",
    "xenium_centroids, he_coordinates, patches, transform_matrix, cell_ids = main(\n",
    "    he_image_path=he_image_path,\n",
    "  #  matching_points_path=matching_points_path,  # Optional\n",
    "    sdata=sdata\n",
    ")\n",
    "\n",
    "# Show a specific cell in both coordinate systems\n",
    "import matplotlib.pyplot as plt\n",
    "\n",
    "# Find a specific cell ID\n",
    "cell_id_to_show = cell_ids[1000]  # Example cell ID\n",
    "cell_index = list(cell_ids).index(cell_id_to_show)\n",
    "\n",
    "# Show original and transformed coordinates\n",
    "print(f\"Cell ID: {cell_id_to_show}\")\n",
    "print(f\"Original Xenium coordinates: {xenium_centroids[cell_index]}\")\n",
    "print(f\"Transformed H&E coordinates: {he_coordinates[cell_index]}\")\n",
    "\n",
    "# Show patches if available\n",
    "if cell_index in patches:\n",
    "    for i, patch in enumerate(patches[cell_index]):\n",
    "        plt.figure(figsize=(5, 5))\n",
    "        plt.imshow(patch)\n",
    "        plt.title(f\"Cell ID: {cell_id_to_show}, Zoom level: {i}\")\n",
    "        plt.axis('off')\n",
    "        plt.show()"
   ]
  },
  {
   "cell_type": "code",
   "execution_count": 1,
   "metadata": {},
   "outputs": [
    {
     "name": "stderr",
     "output_type": "stream",
     "text": [
      "/opt/anaconda3/envs/Cancer/lib/python3.9/site-packages/pyproj/__init__.py:95: UserWarning: pyproj unable to set database path.\n",
      "  _pyproj_global_context_initialize()\n",
      "/opt/anaconda3/envs/Cancer/lib/python3.9/site-packages/numba/core/decorators.py:246: RuntimeWarning: nopython is set for njit and is ignored\n",
      "  warnings.warn('nopython is set for njit and is ignored', RuntimeWarning)\n"
     ]
    },
    {
     "name": "stdout",
     "output_type": "stream",
     "text": [
      "Initialized with scale factor 1e-05\n",
      "- H&E image path: /Users/jianzhouyao/Cancer/FFPE Human Breast with Pre-designed Panel/Xenium_V1_FFPE_Human_Breast_IDC_he_image.ome.tif\n",
      "- Xenium data path: /Users/jianzhouyao/Cancer/FFPE Human Breast with Pre-designed Panel/Xenium_V1_FFPE_Human_Breast_IDC_outs\n",
      "- Zarr path: /Users/jianzhouyao/Cancer/FFPE Human Breast with Pre-designed Panel/Xenium_V1_FFPE_Human_Breast_IDC_outs.zarr\n",
      "Loading H&E image...\n",
      "Transposed H&E image to (H, W, C) format\n",
      "H&E image shape: (53738, 48376, 3)\n",
      "Loading Xenium data from existing Zarr store: /Users/jianzhouyao/Cancer/FFPE Human Breast with Pre-designed Panel/Xenium_V1_FFPE_Human_Breast_IDC_outs.zarr\n"
     ]
    },
    {
     "name": "stderr",
     "output_type": "stream",
     "text": [
      "/opt/anaconda3/envs/Cancer/lib/python3.9/site-packages/anndata/_core/aligned_df.py:68: ImplicitModificationWarning: Transforming to str index.\n",
      "  warnings.warn(\"Transforming to str index.\", ImplicitModificationWarning)\n"
     ]
    },
    {
     "name": "stdout",
     "output_type": "stream",
     "text": [
      "SpatialData object loaded from Zarr.\n",
      "--- SpatialData Object Structure ---\n",
      "SpatialData object, with associated Zarr store: /Users/jianzhouyao/Cancer/FFPE Human Breast with Pre-designed Panel/Xenium_V1_FFPE_Human_Breast_IDC_outs.zarr\n",
      "├── Images\n",
      "│     ├── 'morphology_focus': DataTree[cyx] (1, 53738, 48376), (1, 26869, 24188), (1, 13434, 12094), (1, 6717, 6047), (1, 3358, 3023)\n",
      "│     └── 'morphology_mip': DataTree[cyx] (1, 53738, 48376), (1, 26869, 24188), (1, 13434, 12094), (1, 6717, 6047), (1, 3358, 3023)\n",
      "├── Labels\n",
      "│     ├── 'cell_labels': DataTree[yx] (53738, 48376), (26869, 24188), (13434, 12094), (6717, 6047), (3358, 3023)\n",
      "│     └── 'nucleus_labels': DataTree[yx] (53738, 48376), (26869, 24188), (13434, 12094), (6717, 6047), (3358, 3023)\n",
      "├── Points\n",
      "│     └── 'transcripts': DataFrame with shape: (<Delayed>, 8) (3D points)\n",
      "├── Shapes\n",
      "│     ├── 'cell_boundaries': GeoDataFrame shape: (574852, 1) (2D shapes)\n",
      "│     ├── 'cell_circles': GeoDataFrame shape: (574852, 2) (2D shapes)\n",
      "│     └── 'nucleus_boundaries': GeoDataFrame shape: (574852, 1) (2D shapes)\n",
      "└── Tables\n",
      "      └── 'table': AnnData (574852, 280)\n",
      "with coordinate systems:\n",
      "    ▸ 'global', with elements:\n",
      "        morphology_focus (Images), morphology_mip (Images), cell_labels (Labels), nucleus_labels (Labels), transcripts (Points), cell_boundaries (Shapes), cell_circles (Shapes), nucleus_boundaries (Shapes)\n",
      "------------------------------------\n",
      "Loaded 574852 centroids from AnnData table.\n",
      "Attempting to load DAPI using image key 'morphology_focus' from SpatialData images...\n",
      "Inspecting dataset at 'scale0' for image key 'morphology_focus':\n",
      "  Dataset object type: <class 'datatree.datatree.DataTree'>\n",
      "  Available DataArray(s) (variables) in this dataset: ['image']\n",
      "  Only one DataArray ('image') found in the dataset. Assuming this is the image data.\n",
      "  Attempting to load numpy array from DataArray: 'image' with shape (1, 53738, 48376) and dims ('c', 'y', 'x')\n",
      "Successfully loaded and processed Xenium DAPI (DataArray:'image' from image key:'morphology_focus') from sdata. Final numpy shape: (53738, 48376)\n",
      "Preprocessing images with scale factor 1e-05...\n"
     ]
    },
    {
     "ename": "",
     "evalue": "",
     "output_type": "error",
     "traceback": [
      "\u001b[1;31mThe Kernel crashed while executing code in the current cell or a previous cell. \n",
      "\u001b[1;31mPlease review the code in the cell(s) to identify a possible cause of the failure. \n",
      "\u001b[1;31mClick <a href='https://aka.ms/vscodeJupyterKernelCrash'>here</a> for more info. \n",
      "\u001b[1;31mView Jupyter <a href='command:jupyter.viewOutput'>log</a> for further details."
     ]
    }
   ],
   "source": [
    "from xenium_he_aligner import XeniumHEAligner\n",
    "\n",
    "# Your actual paths\n",
    "he_path = \"/Users/jianzhouyao/Cancer/FFPE Human Breast with Pre-designed Panel/Xenium_V1_FFPE_Human_Breast_IDC_he_image.ome.tif\"\n",
    "xenium_path = \"/Users/jianzhouyao/Cancer/FFPE Human Breast with Pre-designed Panel/Xenium_V1_FFPE_Human_Breast_IDC_outs\"\n",
    "output_dir = \"./alignment_output_breast_idc\"\n",
    "\n",
    "# Create the aligner instance\n",
    "aligner = XeniumHEAligner(he_path, xenium_path, output_dir, scale_factor=0.00001)\n",
    "\n",
    "# Run the pipeline\n",
    "aligner.load_data()\n",
    "aligner.preprocess_images()\n",
    "aligner.register_feature_based()\n",
    "aligner.transform_centroids()\n",
    "aligner.visualize_alignment()"
   ]
  },
  {
   "cell_type": "code",
   "execution_count": null,
   "metadata": {},
   "outputs": [],
   "source": []
  },
  {
   "cell_type": "code",
   "execution_count": null,
   "metadata": {},
   "outputs": [],
   "source": []
  }
 ],
 "metadata": {
  "kernelspec": {
   "display_name": "Cancer",
   "language": "python",
   "name": "python3"
  },
  "language_info": {
   "codemirror_mode": {
    "name": "ipython",
    "version": 3
   },
   "file_extension": ".py",
   "mimetype": "text/x-python",
   "name": "python",
   "nbconvert_exporter": "python",
   "pygments_lexer": "ipython3",
   "version": "3.9.22"
  }
 },
 "nbformat": 4,
 "nbformat_minor": 2
}
