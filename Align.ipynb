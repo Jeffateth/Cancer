{
 "cells": [
  {
   "cell_type": "code",
   "execution_count": null,
   "metadata": {},
   "outputs": [],
   "source": [
    "from xenium_he_aligner import XeniumHEAligner\n",
    "\n",
    "# Your actual paths\n",
    "he_path = \"/Users/jianzhouyao/Cancer/FFPE Human Breast with Pre-designed Panel/Xenium_V1_FFPE_Human_Breast_IDC_he_image.ome.tif\"\n",
    "xenium_path = \"/Users/jianzhouyao/Cancer/FFPE Human Breast with Pre-designed Panel/Xenium_V1_FFPE_Human_Breast_IDC_outs\"\n",
    "output_dir = \"./alignment_output_breast_idc\"\n",
    "\n",
    "# Create the aligner instance\n",
    "aligner = XeniumHEAligner(he_path, xenium_path, output_dir, scale_factor=0.1)\n",
    "\n",
    "# Run the pipeline\n",
    "aligner.load_data()\n",
    "aligner.preprocess_images()\n",
    "aligner.register_feature_based()\n",
    "aligner.transform_centroids()\n",
    "aligner.visualize_alignment()"
   ]
  }
 ],
 "metadata": {
  "kernelspec": {
   "display_name": "Cancer",
   "language": "python",
   "name": "python3"
  },
  "language_info": {
   "name": "python",
   "version": "3.9.22"
  }
 },
 "nbformat": 4,
 "nbformat_minor": 2
}
